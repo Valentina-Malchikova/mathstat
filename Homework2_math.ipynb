{
  "nbformat": 4,
  "nbformat_minor": 0,
  "metadata": {
    "colab": {
      "name": "Homework2_math.ipynb",
      "provenance": [],
      "authorship_tag": "ABX9TyOc6Yem9yqt02EzlYTcddG6",
      "include_colab_link": true
    },
    "kernelspec": {
      "name": "python3",
      "display_name": "Python 3"
    },
    "language_info": {
      "name": "python"
    }
  },
  "cells": [
    {
      "cell_type": "markdown",
      "metadata": {
        "id": "view-in-github",
        "colab_type": "text"
      },
      "source": [
        "<a href=\"https://colab.research.google.com/github/Valentina-Malchikova/mathstat/blob/main/Homework2_math.ipynb\" target=\"_parent\"><img src=\"https://colab.research.google.com/assets/colab-badge.svg\" alt=\"Open In Colab\"/></a>"
      ]
    },
    {
      "cell_type": "code",
      "execution_count": null,
      "metadata": {
        "id": "wXmkLntR7SIJ"
      },
      "outputs": [],
      "source": [
        ""
      ]
    },
    {
      "cell_type": "markdown",
      "source": [
        "**Задание 1**"
      ],
      "metadata": {
        "id": "yUj8I-Tw7sHq"
      }
    },
    {
      "cell_type": "markdown",
      "source": [
        "Вероятность того, что стрелок попадет в мишень, выстрелив один раз, равна 0.8. Стрелок выстрелил 100 раз. Найдите вероятность того, что стрелок попадет в цель ровно 85 раз."
      ],
      "metadata": {
        "id": "lHVjD-Xz72d_"
      }
    },
    {
      "cell_type": "markdown",
      "source": [
        "p=0.8\n",
        "\n",
        "n=100\n",
        "\n",
        "k=85"
      ],
      "metadata": {
        "id": "8BcHXiIG77MS"
      }
    },
    {
      "cell_type": "markdown",
      "source": [
        "q = 1 - 0.8 = 0.2"
      ],
      "metadata": {
        "id": "K4O5blK38Wk0"
      }
    },
    {
      "cell_type": "markdown",
      "source": [
        "используем формулу Бернули"
      ],
      "metadata": {
        "id": "kDVnCxvz_cdU"
      }
    },
    {
      "cell_type": "markdown",
      "source": [
        "P100(X=85) = 100!85!(100-85)! * 0.8(85) * 0.2(15)\n",
        "P = 0.048"
      ],
      "metadata": {
        "id": "nQhI9Uxm8uFx"
      }
    },
    {
      "cell_type": "markdown",
      "source": [
        "**Задание 2**"
      ],
      "metadata": {
        "id": "qPUeIXfQ9mjj"
      }
    },
    {
      "cell_type": "markdown",
      "source": [
        "Вероятность того, что лампочка перегорит в течение первого дня эксплуатации, равна 0.0004. В жилом комплексе после ремонта в один день включили 5000 новых лампочек. Какова вероятность, что ни одна из них не перегорит в первый день? Какова вероятность, что перегорят ровно две?"
      ],
      "metadata": {
        "id": "dAVNKFmZ9u6m"
      }
    },
    {
      "cell_type": "markdown",
      "source": [
        "p = 0.0004\n",
        "\n",
        "n = 5000\n",
        "\n",
        "P(0) = ?\n",
        "\n",
        "P(2) = ?"
      ],
      "metadata": {
        "id": "lpTW7XIR9wJV"
      }
    },
    {
      "cell_type": "markdown",
      "source": [
        "используем формулу Пуассона"
      ],
      "metadata": {
        "id": "1N8VPuX3-fRR"
      }
    },
    {
      "cell_type": "markdown",
      "source": [
        "вероятность, что ни одна не перегорит\n",
        "\n",
        "m = 0"
      ],
      "metadata": {
        "id": "lfjYCsjQ_qY3"
      }
    },
    {
      "cell_type": "markdown",
      "source": [
        "сколько лампочек перегорает в первый день\n",
        "\n",
        "лямбда = 5000 * 0,0004 = 2"
      ],
      "metadata": {
        "id": "kzuVBbwO_9jn"
      }
    },
    {
      "cell_type": "markdown",
      "source": [
        "P(m=0) = (2(0)/0!) * 2.72(-2) = 0.135\n",
        "\n",
        "Какова вероятность, что перегорят 2 лампочки\n",
        "\n",
        "P(m-2) = (2(2)/2!) * 2.72(-2) = 0.27067"
      ],
      "metadata": {
        "id": "_qvMxEoGAyhY"
      }
    },
    {
      "cell_type": "markdown",
      "source": [
        "**Задание 3**"
      ],
      "metadata": {
        "id": "oO9ZHxYxBmU8"
      }
    },
    {
      "cell_type": "markdown",
      "source": [
        "Монету подбросили 144 раза. Какова вероятность, что орел выпадет ровно 70 раз?"
      ],
      "metadata": {
        "id": "vpOVW2_UBsYg"
      }
    },
    {
      "cell_type": "markdown",
      "source": [
        "p = 1/2\n",
        "\n",
        "q = 1/2\n",
        "\n",
        "n = 144\n",
        "\n",
        "k = 70\n",
        "\n",
        "P144(X=70) = 144!/70!(144-70)! * 0.5(70) * 0.5(74) = 0.0628"
      ],
      "metadata": {
        "id": "P-LxmhYYBv7e"
      }
    }
  ]
}