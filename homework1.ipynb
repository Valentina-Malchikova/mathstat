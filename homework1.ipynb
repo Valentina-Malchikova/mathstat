{
  "nbformat": 4,
  "nbformat_minor": 0,
  "metadata": {
    "colab": {
      "name": "Untitled0.ipynb",
      "provenance": [],
      "toc_visible": true,
      "authorship_tag": "ABX9TyONPQCYDDc83C4qoSV4yqgd",
      "include_colab_link": true
    },
    "kernelspec": {
      "name": "python3",
      "display_name": "Python 3"
    },
    "language_info": {
      "name": "python"
    }
  },
  "cells": [
    {
      "cell_type": "markdown",
      "metadata": {
        "id": "view-in-github",
        "colab_type": "text"
      },
      "source": [
        "<a href=\"https://colab.research.google.com/github/Valentina-Malchikova/mathstat/blob/main/homework1.ipynb\" target=\"_parent\"><img src=\"https://colab.research.google.com/assets/colab-badge.svg\" alt=\"Open In Colab\"/></a>"
      ]
    },
    {
      "cell_type": "markdown",
      "source": [
        "# **Задание 1**\n",
        "Из колоды в 52 карты извлекаются случайным образом 4 карты. a) Найти вероятность того, что все карты – крести. б) Найти вероятность, что среди 4-х карт окажется хотя бы один туз."
      ],
      "metadata": {
        "id": "e-K2PhzvYw3D"
      }
    },
    {
      "cell_type": "markdown",
      "source": [
        "**А)**"
      ],
      "metadata": {
        "id": "JA5XGyteaK1L"
      }
    },
    {
      "cell_type": "markdown",
      "source": [
        "13/52 * 12/51 * 11/50 * 10/49= 0,0026"
      ],
      "metadata": {
        "id": "oJZ3GiylZ0oR"
      }
    },
    {
      "cell_type": "markdown",
      "source": [
        "число крестовых карт:\n",
        "52/4 = 13"
      ],
      "metadata": {
        "id": "0A2MIk-qaZc9"
      }
    },
    {
      "cell_type": "markdown",
      "source": [
        "ищем все возможные сочетания из крестовых карт:"
      ],
      "metadata": {
        "id": "bRx1i-9Jcx0c"
      }
    },
    {
      "cell_type": "markdown",
      "source": [
        "С4/13 = 13!/4! * (13-4)! = 13!/4! * 9! = 715"
      ],
      "metadata": {
        "id": "vZc1EyZxafqD"
      }
    },
    {
      "cell_type": "markdown",
      "source": [
        "ищем все возможные сочетания из 4 карт:"
      ],
      "metadata": {
        "id": "UHLZi7cUc-Yo"
      }
    },
    {
      "cell_type": "markdown",
      "source": [
        "С4/52 = 52!/4! * (52 - 4)! = 270725"
      ],
      "metadata": {
        "id": "ChidO0kddbT5"
      }
    },
    {
      "cell_type": "markdown",
      "source": [
        "вероятность вытащить 4 крестовые карты:"
      ],
      "metadata": {
        "id": "tVQY60O2ePNX"
      }
    },
    {
      "cell_type": "markdown",
      "source": [
        "Р = 715 / 270725 = 0,002641"
      ],
      "metadata": {
        "id": "FhsY1I2NeXWX"
      }
    },
    {
      "cell_type": "markdown",
      "source": [
        "**Б)**\n"
      ],
      "metadata": {
        "id": "VlbBdPOJeidf"
      }
    },
    {
      "cell_type": "markdown",
      "source": [
        "подмножество без тузов:"
      ],
      "metadata": {
        "id": "fXCfxeWxe9CQ"
      }
    },
    {
      "cell_type": "markdown",
      "source": [
        "52 - 4 = 48"
      ],
      "metadata": {
        "id": "HLAgClO9gSuT"
      }
    },
    {
      "cell_type": "markdown",
      "source": [
        "найдем число возможных сочетаний из 4 карт из подмножества карт без тузов:"
      ],
      "metadata": {
        "id": "T_w5MQR4gWhJ"
      }
    },
    {
      "cell_type": "markdown",
      "source": [
        "С 4/48 = 48! / 4! * (48-4)! = 194580"
      ],
      "metadata": {
        "id": "PfCcIKLLgsYb"
      }
    },
    {
      "cell_type": "markdown",
      "source": [
        "благоприятствующий исход из карт, где есть хотя бы 1 туз:"
      ],
      "metadata": {
        "id": "KTJOXCw5hyji"
      }
    },
    {
      "cell_type": "markdown",
      "source": [
        "270725 - 194580 = 76145"
      ],
      "metadata": {
        "id": "Ol0OvNvliAgi"
      }
    },
    {
      "cell_type": "markdown",
      "source": [
        "вероятность вытащить 4 карты с минимум 1 тузом:"
      ],
      "metadata": {
        "id": "8XTsFcZfiIo7"
      }
    },
    {
      "cell_type": "markdown",
      "source": [
        "76145 / 270725 = 0,28"
      ],
      "metadata": {
        "id": "4gmacUJ-jPSa"
      }
    },
    {
      "cell_type": "markdown",
      "source": [
        "# Задание 2"
      ],
      "metadata": {
        "id": "sXT21aq_jX_-"
      }
    },
    {
      "cell_type": "markdown",
      "source": [
        "На входной двери подъезда установлен кодовый замок, содержащий десять кнопок с цифрами от 0 до 9. Код содержит три цифры, которые нужно нажать одновременно. Какова вероятность того, что человек, не знающий код, откроет дверь с первой попытки?"
      ],
      "metadata": {
        "id": "T74NIb3GkY5U"
      }
    },
    {
      "cell_type": "markdown",
      "source": [
        "найдем все возможные комбинации:"
      ],
      "metadata": {
        "id": "q8mu9XdWkcKB"
      }
    },
    {
      "cell_type": "markdown",
      "source": [
        "С3/10 = 10!/3! * (10-3)! = 120"
      ],
      "metadata": {
        "id": "AjXg_RvNl8d6"
      }
    },
    {
      "cell_type": "markdown",
      "source": [
        "найдем вероятность, что человек не знающий код, откроет дверь с первой попытки:"
      ],
      "metadata": {
        "id": "XFNfioUamVXR"
      }
    },
    {
      "cell_type": "markdown",
      "source": [
        "Р = 1/120 = 0,008"
      ],
      "metadata": {
        "id": "AOHCBFt0mg-Q"
      }
    },
    {
      "cell_type": "markdown",
      "source": [
        "# Задание 3"
      ],
      "metadata": {
        "id": "clhE2EOnmpod"
      }
    },
    {
      "cell_type": "markdown",
      "source": [
        "В ящике имеется 15 деталей, из которых 9 окрашены. Рабочий случайным образом извлекает 3 детали. Какова вероятность того, что все извлеченные детали окрашены?"
      ],
      "metadata": {
        "id": "pn8Dv0aam4F5"
      }
    },
    {
      "cell_type": "markdown",
      "source": [
        "Вероятность, что первая вытащенная деталь будет окрашена:"
      ],
      "metadata": {
        "id": "U-AiLrYZm7Mz"
      }
    },
    {
      "cell_type": "markdown",
      "source": [
        "Р = (9/15) * (8/14) * (7/13) = 0,18"
      ],
      "metadata": {
        "id": "C1POweYwnba_"
      }
    },
    {
      "cell_type": "markdown",
      "source": [
        "# Задание 4"
      ],
      "metadata": {
        "id": "2WOJoOLfoPoR"
      }
    },
    {
      "cell_type": "markdown",
      "source": [
        "В лотерее 100 билетов. Из них 2 выигрышных. Какова вероятность того, что 2 приобретенных билета окажутся выигрышными?"
      ],
      "metadata": {
        "id": "altm1mJ9oR83"
      }
    },
    {
      "cell_type": "markdown",
      "source": [
        "Р = 2/100 * 1/99 = 0,0002"
      ],
      "metadata": {
        "id": "XKA-ADYKoVMC"
      }
    },
    {
      "cell_type": "markdown",
      "source": [
        ""
      ],
      "metadata": {
        "id": "FJ7xkRVLopqO"
      }
    }
  ]
}